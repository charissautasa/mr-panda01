{
 "cells": [
  {
   "cell_type": "code",
   "execution_count": 1,
   "id": "960f25ea-8a57-4549-b019-ea24837d104a",
   "metadata": {
    "scrolled": true
   },
   "outputs": [
    {
     "name": "stderr",
     "output_type": "stream",
     "text": [
      "<>:4: SyntaxWarning: invalid escape sequence '\\d'\n",
      "<>:7: SyntaxWarning: invalid escape sequence '\\d'\n",
      "<>:4: SyntaxWarning: invalid escape sequence '\\d'\n",
      "<>:7: SyntaxWarning: invalid escape sequence '\\d'\n",
      "C:\\Users\\yoyoy\\AppData\\Local\\Temp\\ipykernel_21532\\4112926786.py:4: SyntaxWarning: invalid escape sequence '\\d'\n",
      "  main_df = pd.read_csv(\"..\\data\\TGM 2020-2023_eng-update.csv\")\n",
      "C:\\Users\\yoyoy\\AppData\\Local\\Temp\\ipykernel_21532\\4112926786.py:7: SyntaxWarning: invalid escape sequence '\\d'\n",
      "  new_df = pd.read_csv(\"..\\data\\OECD PISA data.csv\")\n"
     ]
    }
   ],
   "source": [
    "import pandas as pd\n",
    "\n",
    "# Load the main dataset\n",
    "main_df = pd.read_csv(\"..\\data\\TGM 2020-2023_eng-update.csv\")\n",
    "\n",
    "# Load the new dataset\n",
    "new_df = pd.read_csv(\"..\\data\\OECD PISA data.csv\")\n"
   ]
  },
  {
   "cell_type": "code",
   "execution_count": 2,
   "id": "e80f6e60-084b-4459-a189-8d0eb6c12a0e",
   "metadata": {},
   "outputs": [
    {
     "name": "stdout",
     "output_type": "stream",
     "text": [
      "Columns in main_df: Index(['Provinsi', 'Year', 'Reading Frequency per week',\n",
      "       'Number of Readings per Quarter', 'Daily Reading Duration (in minutes)',\n",
      "       'Internet Access Frequency per Week',\n",
      "       'Daily Internet Duration (in minutes)',\n",
      "       'Tingkat Kegemaran Membaca (Reading Interest)', 'Category'],\n",
      "      dtype='object')\n",
      "Columns in new_df: Index(['index', 'LOCATION', 'INDICATOR', 'SUBJECT', 'TIME', 'Value'], dtype='object')\n"
     ]
    }
   ],
   "source": [
    "print(\"Columns in main_df:\", main_df.columns)\n",
    "print(\"Columns in new_df:\", new_df.columns)\n"
   ]
  },
  {
   "cell_type": "code",
   "execution_count": 3,
   "id": "8a7fd8da-f1ed-4f20-bdba-3bc4935884b7",
   "metadata": {},
   "outputs": [
    {
     "name": "stdout",
     "output_type": "stream",
     "text": [
      "Columns in new_df: Index(['index', 'LOCATION', 'INDICATOR', 'SUBJECT', 'Year', 'Value'], dtype='object')\n"
     ]
    }
   ],
   "source": [
    "new_df = new_df.rename(columns={'TIME': 'Year'})\n",
    "print(\"Columns in new_df:\", new_df.columns)"
   ]
  },
  {
   "cell_type": "code",
   "execution_count": 4,
   "id": "501cab92-fc5a-4daa-a9ec-8230847197ce",
   "metadata": {},
   "outputs": [],
   "source": [
    "# Merge datasets on the common key 'Year'\n",
    "merged_data = pd.merge(main_df, new_df, on='Year', how='outer')\n",
    "\n",
    "# Save the merged dataset\n",
    "merged_data.to_csv('../Clean_Data/merged_data.csv', index=False)"
   ]
  },
  {
   "cell_type": "markdown",
   "id": "5e624a7b-f266-4951-beec-1c9a93baf20a",
   "metadata": {},
   "source": [
    "### Merge Explanation\n",
    "\n",
    "I chose to perform an **outer join** because the two datasets (`main_df` and `new_df`) do not have a strong common thread in the `'Year'` column. An outer join allows me to retain all rows from both datasets, even if there are no matching values in the `'Year'` column. This approach ensures that no data is lost, and I can analyze the full scope of both datasets.\n",
    "\n",
    "#### Why Not an Inner Join?\n",
    "An inner join would only keep rows where the `'Year'` values match in both datasets. Since the datasets do not have a strong overlap in the `'Year'` column, an inner join would result in an empty DataFrame, which is not useful for analysis.\n",
    "\n",
    "#### NA Values\n",
    "In the merged dataset, missing values (`NaN`) will appear in columns where there is no match between the datasets. For example:\n",
    "- If a row in `main_df` does not have a matching `'Year'` in `new_df`, the columns from `new_df` will contain `NaN`.\n",
    "- Similarly, if a row in `new_df` does not have a matching `'Year'` in `main_df`, the columns from `main_df` will contain `NaN`.\n",
    "\n",
    "This allows me to identify where the datasets overlap and where they diverge, providing a comprehensive view of the data."
   ]
  },
  {
   "cell_type": "code",
   "execution_count": null,
   "id": "3bf9af1d-10a8-43ef-8008-4b10ca9d9f3d",
   "metadata": {},
   "outputs": [],
   "source": []
  }
 ],
 "metadata": {
  "kernelspec": {
   "display_name": "Python 3 (ipykernel)",
   "language": "python",
   "name": "python3"
  },
  "language_info": {
   "codemirror_mode": {
    "name": "ipython",
    "version": 3
   },
   "file_extension": ".py",
   "mimetype": "text/x-python",
   "name": "python",
   "nbconvert_exporter": "python",
   "pygments_lexer": "ipython3",
   "version": "3.12.7"
  }
 },
 "nbformat": 4,
 "nbformat_minor": 5
}
